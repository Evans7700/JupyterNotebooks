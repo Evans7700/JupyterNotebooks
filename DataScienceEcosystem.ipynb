{
 "cells": [
  {
   "cell_type": "markdown",
   "id": "4a288d79-9def-4a8a-bae6-837103c7dc33",
   "metadata": {},
   "source": [
    "# Data Science Tools and Ecosystem"
   ]
  },
  {
   "cell_type": "markdown",
   "id": "72c54da5-f0c5-4a15-bf95-75cffef8d15a",
   "metadata": {},
   "source": [
    "In this notebook, Data Science Tools and Ecosystem are summarized."
   ]
  },
  {
   "cell_type": "markdown",
   "id": "59b6d644-e3cb-4d88-bb01-9dd96853b4e2",
   "metadata": {},
   "source": [
    "**Objectives:**\n",
    "- List popular languages for Data Science\n",
    "- List popular libraries for Data Science\n",
    "- List Data Science tools"
   ]
  },
  {
   "cell_type": "markdown",
   "id": "2b424bc1-0d71-48b7-9bfe-ea1ba28fca7e",
   "metadata": {
    "tags": []
   },
   "source": [
    "## Author\n",
    "Evans Mbogo"
   ]
  },
  {
   "cell_type": "markdown",
   "id": "e397bacf-9c49-4ec9-8c2e-dbf418257bdd",
   "metadata": {},
   "source": [
    "Some of the popular languages that Data Scientists use are:\n",
    "1. Python\n",
    "2. R\n",
    "3. SQL\n",
    "4. Java"
   ]
  },
  {
   "cell_type": "markdown",
   "id": "0b209572-8c34-4f5d-bd1a-87833327d739",
   "metadata": {},
   "source": [
    "Some of the commonly used libraries used by Data Scientists include:\n",
    "1. Pandas\n",
    "2. Scikit-learn\n",
    "3. Numpy"
   ]
  },
  {
   "cell_type": "markdown",
   "id": "ec0d2edd-f43f-4da6-aa97-2afc294e7876",
   "metadata": {},
   "source": [
    "|Data Science Tools |\n",
    "|----|\n",
    "|Rstudio |\n",
    "|TensorFlow |\n",
    "|Hadoop |"
   ]
  },
  {
   "cell_type": "markdown",
   "id": "2a162e63-1f0c-4531-bc33-dadcbc7fbfed",
   "metadata": {},
   "source": [
    "### Below are a few examples of evaluating arithmetic expressions in Python"
   ]
  },
  {
   "cell_type": "code",
   "execution_count": 1,
   "id": "e7df7b7c-78f5-4ebc-8c8b-490f258ba776",
   "metadata": {
    "tags": []
   },
   "outputs": [
    {
     "data": {
      "text/plain": [
       "17"
      ]
     },
     "execution_count": 1,
     "metadata": {},
     "output_type": "execute_result"
    }
   ],
   "source": [
    "# This a simple arithmetic expression to mutiply then add integers\n",
    "(3*4)+5"
   ]
  },
  {
   "cell_type": "code",
   "execution_count": 2,
   "id": "fd672818-80c8-4272-924e-a79d55e7c4f9",
   "metadata": {
    "tags": []
   },
   "outputs": [
    {
     "data": {
      "text/plain": [
       "3.3333333333333335"
      ]
     },
     "execution_count": 2,
     "metadata": {},
     "output_type": "execute_result"
    }
   ],
   "source": [
    "# This will convert 200 minutes to hours by diving by 60\n",
    "200/60"
   ]
  },
  {
   "cell_type": "markdown",
   "id": "aa6e68f5-b801-484c-a688-1b37aeb047cb",
   "metadata": {},
   "source": []
  }
 ],
 "metadata": {
  "kernelspec": {
   "display_name": "Python",
   "language": "python",
   "name": "conda-env-python-py"
  },
  "language_info": {
   "codemirror_mode": {
    "name": "ipython",
    "version": 3
   },
   "file_extension": ".py",
   "mimetype": "text/x-python",
   "name": "python",
   "nbconvert_exporter": "python",
   "pygments_lexer": "ipython3",
   "version": "3.7.12"
  }
 },
 "nbformat": 4,
 "nbformat_minor": 5
}
